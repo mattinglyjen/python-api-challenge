{
 "cells": [
  {
   "cell_type": "markdown",
   "metadata": {},
   "source": [
    "# WeatherPy\n",
    "----\n",
    "\n",
    "#### Note\n",
    "* Instructions have been included for each segment. You do not have to follow them exactly, but they are included to help you think through the steps."
   ]
  },
  {
   "cell_type": "code",
   "execution_count": 16,
   "metadata": {
    "scrolled": true
   },
   "outputs": [],
   "source": [
    "# Dependencies and Setup\n",
    "import matplotlib.pyplot as plt\n",
    "import pandas as pd\n",
    "import numpy as np\n",
    "import requests\n",
    "import time\n",
    "from scipy.stats import linregress\n",
    "\n",
    "# Import API key\n",
    "from api_keys import weather_api_key\n",
    "\n",
    "# Incorporated citipy to determine city based on latitude and longitude\n",
    "from citipy import citipy\n",
    "\n",
    "# Output File (CSV)\n",
    "output_data_file = \"cities.csv\"\n",
    "\n",
    "# Range of latitudes and longitudes\n",
    "lat_range = (-90, 90)\n",
    "lng_range = (-180, 180)"
   ]
  },
  {
   "cell_type": "markdown",
   "metadata": {},
   "source": [
    "## Generate Cities List"
   ]
  },
  {
   "cell_type": "code",
   "execution_count": 17,
   "metadata": {},
   "outputs": [
    {
     "data": {
      "text/plain": [
       "611"
      ]
     },
     "execution_count": 17,
     "metadata": {},
     "output_type": "execute_result"
    }
   ],
   "source": [
    "# List for holding lat_lngs and cities\n",
    "\n",
    "lat_lngs = []\n",
    "cities = []\n",
    "\n",
    "# Create a set of random lat and lng combinations\n",
    "lats = np.random.uniform(lat_range[0], lat_range[1], size=1500)\n",
    "lngs = np.random.uniform(lng_range[0], lng_range[1], size=1500)\n",
    "lat_lngs = zip(lats, lngs)\n",
    "\n",
    "# Identify nearest city for each lat, lng combination\n",
    "for lat_lng in lat_lngs:\n",
    "    city = citipy.nearest_city(lat_lng[0], lat_lng[1]).city_name\n",
    "    \n",
    "    # If the city is unique, then add it to a our cities list\n",
    "    if city not in cities:\n",
    "        cities.append(city)\n",
    "\n",
    "# Print the city count to confirm sufficient count\n",
    "\n",
    "\n",
    "len(cities) "
   ]
  },
  {
   "cell_type": "markdown",
   "metadata": {},
   "source": [
    "### Perform API Calls\n",
    "* Perform a weather check on each city using a series of successive API calls.\n",
    "* Include a print log of each city as it'sbeing processed (with the city number and city name).\n"
   ]
  },
  {
   "cell_type": "code",
   "execution_count": 18,
   "metadata": {},
   "outputs": [],
   "source": [
    "url = \"http://api.openweathermap.org/data/2.5/weather?q=\""
   ]
  },
  {
   "cell_type": "code",
   "execution_count": 19,
   "metadata": {
    "scrolled": true
   },
   "outputs": [
    {
     "name": "stdout",
     "output_type": "stream",
     "text": [
      "hermanus 1\n",
      "bluff 2\n",
      "faya 3\n",
      "busselton 4\n",
      "zabol 5\n",
      "City not found\n",
      "qaanaaq 7\n",
      "City not found\n",
      "zhangye 9\n",
      "nikolskoye 10\n",
      "santa isabel do rio negro 11\n",
      "sao sepe 12\n",
      "meadow lake 13\n",
      "georgetown 14\n",
      "east london 15\n",
      "saskylakh 16\n",
      "ambalavao 17\n",
      "ushuaia 18\n",
      "City not found\n",
      "hilo 20\n",
      "punta arenas 21\n",
      "talnakh 22\n",
      "butaritari 23\n",
      "mae tha 24\n",
      "tuktoyaktuk 25\n",
      "rikitea 26\n",
      "alto araguaia 27\n",
      "sudak 28\n",
      "albany 29\n",
      "hofn 30\n",
      "acari 31\n",
      "City not found\n",
      "port elizabeth 33\n",
      "solnechnyy 34\n",
      "City not found\n",
      "bethel 36\n",
      "mount gambier 37\n",
      "yellowknife 38\n",
      "rawson 39\n",
      "leh 40\n",
      "clyde river 41\n",
      "pisco 42\n",
      "bubaque 43\n",
      "balkanabat 44\n",
      "ribeira grande 45\n",
      "City not found\n",
      "City not found\n",
      "north bend 48\n",
      "kapaa 49\n",
      "cape town 50\n",
      "novyy urgal 51\n",
      "new norfolk 52\n",
      "beverley 53\n",
      "auki 54\n",
      "kashi 55\n",
      "vaini 56\n",
      "viedma 57\n",
      "katherine 58\n",
      "rafaela 59\n",
      "chokurdakh 60\n",
      "atuona 61\n",
      "bambous virieux 62\n",
      "saint-philippe 63\n",
      "warrnambool 64\n",
      "sao felix do xingu 65\n",
      "leningradskiy 66\n",
      "lagunas 67\n",
      "yatou 68\n",
      "sehithwa 69\n",
      "kodiak 70\n",
      "rosetta 71\n",
      "City not found\n",
      "hami 73\n",
      "rudbar 74\n",
      "kefamenanu 75\n",
      "ampanihy 76\n",
      "muli 77\n",
      "City not found\n",
      "odweyne 79\n",
      "tulancingo 80\n",
      "mataura 81\n",
      "kaina 82\n",
      "saqqez 83\n",
      "resistencia 84\n",
      "City not found\n",
      "torbay 86\n",
      "severo-kurilsk 87\n",
      "meulaboh 88\n",
      "cidreira 89\n",
      "cabedelo 90\n",
      "haines junction 91\n",
      "City not found\n",
      "buraydah 93\n",
      "kudahuvadhoo 94\n",
      "nome 95\n",
      "russell 96\n",
      "hobart 97\n",
      "krasnovishersk 98\n",
      "castro 99\n",
      "City not found\n",
      "kamarion 101\n",
      "kragero 102\n",
      "kaputa 103\n",
      "kavieng 104\n",
      "ixtapa 105\n",
      "barrow 106\n",
      "City not found\n",
      "ocampo 108\n",
      "tiksi 109\n",
      "niagara falls 110\n",
      "City not found\n",
      "City not found\n",
      "thompson 113\n",
      "berlevag 114\n",
      "avarua 115\n",
      "tezu 116\n",
      "sikonge 117\n",
      "thul 118\n",
      "pahrump 119\n",
      "City not found\n",
      "lorengau 121\n",
      "copiapo 122\n",
      "lompoc 123\n",
      "trincomalee 124\n",
      "masindi 125\n",
      "City not found\n",
      "jamestown 127\n",
      "saint george 128\n",
      "cobija 129\n",
      "adrar 130\n",
      "guijalo 131\n",
      "chuy 132\n",
      "yate 133\n",
      "makakilo city 134\n",
      "paita 135\n",
      "carnarvon 136\n",
      "jacareacanga 137\n",
      "port alfred 138\n",
      "kutum 139\n",
      "iqaluit 140\n",
      "City not found\n",
      "ostrovnoy 142\n",
      "grindavik 143\n",
      "ola 144\n",
      "City not found\n",
      "City not found\n",
      "hokitika 147\n",
      "mar del plata 148\n",
      "oistins 149\n",
      "rio grande 150\n",
      "pevek 151\n",
      "capoeiras 152\n",
      "khash 153\n",
      "namatanai 154\n",
      "aosta 155\n",
      "kathmandu 156\n",
      "tartagal 157\n",
      "mahebourg 158\n",
      "City not found\n",
      "souillac 160\n",
      "puerto ayora 161\n",
      "consett 162\n",
      "dingzhou 163\n",
      "tateyama 164\n",
      "nouadhibou 165\n",
      "esperance 166\n",
      "saharanpur 167\n",
      "adet 168\n",
      "sao joao da barra 169\n",
      "provideniya 170\n",
      "umm lajj 171\n",
      "ascension 172\n",
      "aloleng 173\n",
      "oksfjord 174\n",
      "hammerfest 175\n",
      "norman wells 176\n",
      "ancud 177\n",
      "klaksvik 178\n",
      "vardo 179\n",
      "sao jose da coroa grande 180\n",
      "bredasdorp 181\n",
      "vilyuysk 182\n",
      "sola 183\n",
      "City not found\n",
      "mayo 185\n",
      "aklavik 186\n",
      "dunedin 187\n",
      "canmore 188\n",
      "pyay 189\n",
      "tuatapere 190\n",
      "arraial do cabo 191\n",
      "beisfjord 192\n",
      "wanning 193\n",
      "hamilton 194\n",
      "abha 195\n",
      "kirakira 196\n",
      "te anau 197\n",
      "lazaro cardenas 198\n",
      "tashtyp 199\n",
      "durres 200\n",
      "zaysan 201\n",
      "City not found\n",
      "longyearbyen 203\n",
      "bafia 204\n",
      "moose factory 205\n",
      "zyryanka 206\n",
      "itoman 207\n",
      "dryden 208\n",
      "lavrentiya 209\n",
      "straumen 210\n",
      "port hardy 211\n",
      "kiama 212\n",
      "vao 213\n",
      "hualmay 214\n",
      "charagua 215\n",
      "zhigansk 216\n",
      "upernavik 217\n",
      "liaoyang 218\n",
      "kruisfontein 219\n",
      "saint-pierre 220\n",
      "roslavl 221\n",
      "carutapera 222\n",
      "san cristobal 223\n",
      "saint-francois 224\n",
      "City not found\n",
      "tel aviv-yafo 226\n",
      "nouakchott 227\n",
      "fortuna 228\n",
      "City not found\n",
      "bengkulu 230\n",
      "veraval 231\n",
      "airai 232\n",
      "arzgir 233\n",
      "kurilsk 234\n",
      "srandakan 235\n",
      "alofi 236\n",
      "ahipara 237\n",
      "winneba 238\n",
      "victoria 239\n",
      "northam 240\n",
      "zhifang 241\n",
      "ponta do sol 242\n",
      "hithadhoo 243\n",
      "pasinler 244\n",
      "tura 245\n",
      "sitka 246\n",
      "ballina 247\n",
      "impfondo 248\n",
      "joshimath 249\n",
      "destin 250\n",
      "dikson 251\n",
      "oranjestad 252\n",
      "broome 253\n",
      "luderitz 254\n",
      "nanortalik 255\n",
      "westport 256\n",
      "tasiilaq 257\n",
      "coos bay 258\n",
      "yenagoa 259\n",
      "kaitangata 260\n",
      "pangnirtung 261\n",
      "dzerzhinskoye 262\n",
      "tagusao 263\n",
      "inverell 264\n",
      "touros 265\n",
      "la ronge 266\n",
      "kutulik 267\n",
      "bathsheba 268\n",
      "deputatskiy 269\n",
      "cherskiy 270\n",
      "el chichicaste 271\n",
      "lebu 272\n",
      "celestun 273\n",
      "sorong 274\n",
      "kumluca 275\n",
      "ugento 276\n",
      "ontario 277\n",
      "kjollefjord 278\n",
      "kapit 279\n",
      "martapura 280\n",
      "saldanha 281\n",
      "mayumba 282\n",
      "sualkuchi 283\n",
      "gasa 284\n",
      "labuan 285\n",
      "uige 286\n",
      "port blair 287\n",
      "nikki 288\n",
      "marsa matruh 289\n",
      "barranca 290\n",
      "acapulco 291\n",
      "nioaque 292\n",
      "kargat 293\n",
      "City not found\n",
      "canavieiras 295\n",
      "matagami 296\n",
      "pindiga 297\n",
      "prykolotne 298\n",
      "bossangoa 299\n",
      "anzhero-sudzhensk 300\n",
      "kahului 301\n",
      "rovaniemi 302\n",
      "erzin 303\n",
      "namibe 304\n",
      "pangody 305\n",
      "City not found\n",
      "smithers 307\n",
      "praia da vitoria 308\n",
      "ilave 309\n",
      "qasigiannguit 310\n",
      "bosaso 311\n",
      "verkhoyansk 312\n",
      "port hedland 313\n",
      "hasaki 314\n",
      "najran 315\n",
      "lupao 316\n",
      "cabo san lucas 317\n",
      "katsuura 318\n",
      "korla 319\n",
      "le pradet 320\n",
      "flinders 321\n",
      "kathu 322\n",
      "ilulissat 323\n",
      "komsomolskiy 324\n",
      "dhanbad 325\n",
      "ta khmau 326\n",
      "poya 327\n",
      "mondragone 328\n",
      "sarangani 329\n",
      "fairbanks 330\n",
      "tefe 331\n",
      "duluth 332\n",
      "buluang 333\n",
      "raga 334\n",
      "khatanga 335\n",
      "City not found\n",
      "turayf 337\n",
      "severo-yeniseyskiy 338\n",
      "ayagoz 339\n",
      "salamiyah 340\n",
      "orlik 341\n",
      "babai 342\n",
      "madera 343\n",
      "frunze 344\n",
      "burnie 345\n",
      "sambava 346\n",
      "colmenar viejo 347\n",
      "kalmunai 348\n",
      "half moon bay 349\n",
      "City not found\n",
      "college 351\n",
      "nanakuli 352\n",
      "guerrero negro 353\n",
      "ulladulla 354\n",
      "maldonado 355\n",
      "valkeala 356\n",
      "durban 357\n",
      "kloulklubed 358\n",
      "sovetskiy 359\n",
      "pochutla 360\n",
      "geraldton 361\n",
      "banjar 362\n",
      "tiarei 363\n",
      "juneau 364\n",
      "georgiyevka 365\n",
      "araouane 366\n",
      "bonoua 367\n",
      "corrente 368\n",
      "boueni 369\n",
      "nola 370\n",
      "maniitsoq 371\n",
      "wegorzewo 372\n",
      "middletown 373\n",
      "zermatt 374\n",
      "porbandar 375\n",
      "kungurtug 376\n",
      "anahuac 377\n",
      "mandera 378\n",
      "ojinaga 379\n",
      "axim 380\n",
      "ambilobe 381\n",
      "nautla 382\n",
      "padang 383\n",
      "City not found\n",
      "nelson bay 385\n",
      "City not found\n",
      "muncie 387\n",
      "zhuhai 388\n",
      "prince rupert 389\n",
      "marawi 390\n",
      "eirunepe 391\n",
      "marzuq 392\n",
      "City not found\n",
      "lensk 394\n",
      "mehamn 395\n",
      "poum 396\n",
      "vostok 397\n",
      "gat 398\n",
      "san pedro 399\n",
      "pingliang 400\n",
      "tamiahua 401\n",
      "mount isa 402\n",
      "taunggyi 403\n",
      "zanjan 404\n",
      "City not found\n",
      "minsk 406\n",
      "svetlaya 407\n",
      "baghdad 408\n",
      "leiva 409\n",
      "nishihara 410\n",
      "emerald 411\n",
      "uporovo 412\n",
      "chifeng 413\n",
      "beringovskiy 414\n",
      "maryville 415\n",
      "los llanos de aridane 416\n",
      "bonavista 417\n",
      "kokoda 418\n",
      "yar-sale 419\n",
      "varzea grande 420\n",
      "fort nelson 421\n",
      "paris 422\n",
      "luena 423\n",
      "channel-port aux basques 424\n",
      "aleksandrovka 425\n",
      "constitucion 426\n",
      "oxelosund 427\n",
      "puerto leguizamo 428\n",
      "strezhevoy 429\n",
      "gizo 430\n",
      "alenquer 431\n",
      "arroyo 432\n",
      "chapais 433\n",
      "manzanillo 434\n",
      "gushikawa 435\n",
      "huallanca 436\n",
      "kabalo 437\n",
      "roros 438\n",
      "kavaratti 439\n",
      "nemuro 440\n",
      "kieta 441\n",
      "City not found\n",
      "dharmanagar 443\n",
      "prince george 444\n",
      "belle fourche 445\n",
      "kazerun 446\n",
      "tabuk 447\n",
      "matara 448\n",
      "City not found\n",
      "evensk 450\n",
      "talcahuano 451\n",
      "bahia blanca 452\n",
      "maceio 453\n",
      "takoradi 454\n",
      "mezen 455\n",
      "rodbyhavn 456\n",
      "City not found\n",
      "mahibadhoo 458\n",
      "boa vista 459\n",
      "castlebar 460\n",
      "verkhnevilyuysk 461\n",
      "tautira 462\n",
      "baykit 463\n",
      "hobyo 464\n",
      "sao paulo de olivenca 465\n",
      "ust-kuyga 466\n",
      "zarautz 467\n",
      "awjilah 468\n",
      "boshnyakovo 469\n",
      "lata 470\n",
      "tres arroyos 471\n",
      "banda aceh 472\n",
      "galdar 473\n",
      "codrington 474\n",
      "faanui 475\n",
      "bilibino 476\n",
      "labuhan 477\n",
      "compostela 478\n",
      "daru 479\n",
      "jaciara 480\n",
      "dingle 481\n",
      "christchurch 482\n",
      "chabahar 483\n",
      "shingu 484\n",
      "gorkovskiy 485\n",
      "finschhafen 486\n",
      "san patricio 487\n",
      "sorland 488\n",
      "isangel 489\n",
      "fallon 490\n",
      "nurota 491\n",
      "portree 492\n",
      "killam 493\n",
      "freeport 494\n",
      "lasa 495\n",
      "nhulunbuy 496\n",
      "noumea 497\n",
      "bontang 498\n",
      "rundu 499\n",
      "zambezi 500\n"
     ]
    }
   ],
   "source": [
    "data= []\n",
    "counter = 0\n",
    "\n",
    "\n",
    "for city in cities [:500]:\n",
    "    response = requests.get(url+ city +\"&units=imperial\" + \"&appid=\" + weather_api_key)\n",
    "    weather_json = response.json()\n",
    "    counter = counter + 1\n",
    "    try: \n",
    "        \n",
    "        country = weather_json['sys']['country']  \n",
    "        cloudiness = weather_json['clouds']['all']\n",
    "        date= weather_json['dt']\n",
    "        humidity = weather_json['main']['humidity']\n",
    "        latitude= weather_json['coord']['lat']\n",
    "        longitude= weather_json['coord']['lon']\n",
    "        max_temp= weather_json['main']['temp_max']\n",
    "        wind_speed= weather_json['wind']['speed']\n",
    "        data.append([city, country, cloudiness, humidity, latitude, longitude, max_temp, wind_speed])\n",
    "        time.sleep(.2)\n",
    "        print(f\"{city} {counter}\")\n",
    "    except:\n",
    "        print(\"City not found\")\n",
    "        "
   ]
  },
  {
   "cell_type": "markdown",
   "metadata": {},
   "source": [
    "### Convert Raw Data to DataFrame\n",
    "* Export the city data into a .csv.\n",
    "* Display the DataFrame"
   ]
  },
  {
   "cell_type": "code",
   "execution_count": 20,
   "metadata": {
    "scrolled": true
   },
   "outputs": [
    {
     "data": {
      "text/html": [
       "<div>\n",
       "<style scoped>\n",
       "    .dataframe tbody tr th:only-of-type {\n",
       "        vertical-align: middle;\n",
       "    }\n",
       "\n",
       "    .dataframe tbody tr th {\n",
       "        vertical-align: top;\n",
       "    }\n",
       "\n",
       "    .dataframe thead th {\n",
       "        text-align: right;\n",
       "    }\n",
       "</style>\n",
       "<table border=\"1\" class=\"dataframe\">\n",
       "  <thead>\n",
       "    <tr style=\"text-align: right;\">\n",
       "      <th></th>\n",
       "      <th>city</th>\n",
       "      <th>country</th>\n",
       "      <th>cloudiness</th>\n",
       "      <th>humidity</th>\n",
       "      <th>latitude</th>\n",
       "      <th>longitude</th>\n",
       "      <th>max_temp</th>\n",
       "      <th>wind_speed</th>\n",
       "    </tr>\n",
       "  </thead>\n",
       "  <tbody>\n",
       "    <tr>\n",
       "      <th>0</th>\n",
       "      <td>hermanus</td>\n",
       "      <td>ZA</td>\n",
       "      <td>0</td>\n",
       "      <td>48</td>\n",
       "      <td>-34.4187</td>\n",
       "      <td>19.2345</td>\n",
       "      <td>78.01</td>\n",
       "      <td>8.99</td>\n",
       "    </tr>\n",
       "    <tr>\n",
       "      <th>1</th>\n",
       "      <td>bluff</td>\n",
       "      <td>NZ</td>\n",
       "      <td>90</td>\n",
       "      <td>92</td>\n",
       "      <td>-46.6000</td>\n",
       "      <td>168.3333</td>\n",
       "      <td>43.00</td>\n",
       "      <td>12.62</td>\n",
       "    </tr>\n",
       "    <tr>\n",
       "      <th>2</th>\n",
       "      <td>faya</td>\n",
       "      <td>SA</td>\n",
       "      <td>40</td>\n",
       "      <td>25</td>\n",
       "      <td>18.3851</td>\n",
       "      <td>42.4509</td>\n",
       "      <td>75.20</td>\n",
       "      <td>11.50</td>\n",
       "    </tr>\n",
       "    <tr>\n",
       "      <th>3</th>\n",
       "      <td>busselton</td>\n",
       "      <td>AU</td>\n",
       "      <td>51</td>\n",
       "      <td>89</td>\n",
       "      <td>-33.6500</td>\n",
       "      <td>115.3333</td>\n",
       "      <td>57.00</td>\n",
       "      <td>7.63</td>\n",
       "    </tr>\n",
       "    <tr>\n",
       "      <th>4</th>\n",
       "      <td>zabol</td>\n",
       "      <td>AF</td>\n",
       "      <td>88</td>\n",
       "      <td>34</td>\n",
       "      <td>32.2500</td>\n",
       "      <td>67.2500</td>\n",
       "      <td>61.88</td>\n",
       "      <td>7.16</td>\n",
       "    </tr>\n",
       "  </tbody>\n",
       "</table>\n",
       "</div>"
      ],
      "text/plain": [
       "        city country  cloudiness  humidity  latitude  longitude  max_temp  \\\n",
       "0   hermanus      ZA           0        48  -34.4187    19.2345     78.01   \n",
       "1      bluff      NZ          90        92  -46.6000   168.3333     43.00   \n",
       "2       faya      SA          40        25   18.3851    42.4509     75.20   \n",
       "3  busselton      AU          51        89  -33.6500   115.3333     57.00   \n",
       "4      zabol      AF          88        34   32.2500    67.2500     61.88   \n",
       "\n",
       "   wind_speed  \n",
       "0        8.99  \n",
       "1       12.62  \n",
       "2       11.50  \n",
       "3        7.63  \n",
       "4        7.16  "
      ]
     },
     "execution_count": 20,
     "metadata": {},
     "output_type": "execute_result"
    }
   ],
   "source": [
    "city_df= pd.DataFrame (data, columns= [\"city\", \"country\", \"cloudiness\", \"humidity\", \"latitude\", \"longitude\", \"max_temp\", \"wind_speed\"])\n",
    "\n",
    "\n",
    "city_df.to_csv(output_data_file, index=None, header=True)\n",
    "city_df.head()"
   ]
  },
  {
   "cell_type": "markdown",
   "metadata": {},
   "source": [
    "## Inspect the data and remove the cities where the humidity > 100%.\n",
    "----\n",
    "Skip this step if there are no cities that have humidity > 100%. "
   ]
  },
  {
   "cell_type": "code",
   "execution_count": null,
   "metadata": {},
   "outputs": [],
   "source": [
    "#  Get the indices of cities that have humidity over 100%.\n"
   ]
  },
  {
   "cell_type": "code",
   "execution_count": null,
   "metadata": {},
   "outputs": [],
   "source": [
    "# Make a new DataFrame equal to the city data to drop all humidity outliers by index.\n",
    "# Passing \"inplace=False\" will make a copy of the city_data DataFrame, which we call \"clean_city_data\".\n"
   ]
  },
  {
   "cell_type": "code",
   "execution_count": null,
   "metadata": {},
   "outputs": [],
   "source": [
    "\n"
   ]
  },
  {
   "cell_type": "markdown",
   "metadata": {},
   "source": [
    "## Plotting the Data\n",
    "* Use proper labeling of the plots using plot titles (including date of analysis) and axes labels.\n",
    "* Save the plotted figures as .pngs."
   ]
  },
  {
   "cell_type": "markdown",
   "metadata": {},
   "source": [
    "## Latitude vs. Temperature Plot"
   ]
  },
  {
   "cell_type": "code",
   "execution_count": 14,
   "metadata": {
    "scrolled": true
   },
   "outputs": [
    {
     "data": {
      "image/png": "[encoded data removed]",
      "text/plain": [
       "<Figure size 432x288 with 1 Axes>"
      ]
     },
     "metadata": {
      "needs_background": "light"
     },
     "output_type": "display_data"
    }
   ],
   "source": [
    "# create scatter \n",
    "plt.scatter(city_df[\"latitude\"], city_df[\"max_temp\"], c=\"purple\", edgecolor=\"blue\")\n",
    "plt.grid()\n",
    "plt.xlabel('Latitude')\n",
    "plt.ylabel('Max Temperature (F)')\n",
    "plt.title(\"City Latitude vs. Max Temperature\")\n",
    "\n",
    "#Save Image\n",
    "plt.savefig(\"LatTemp.png\")\n",
    "plt.show()\n"
   ]
  },
  {
   "cell_type": "markdown",
   "metadata": {},
   "source": [
    "## Latitude vs. Humidity Plot"
   ]
  },
  {
   "cell_type": "code",
   "execution_count": 13,
   "metadata": {},
   "outputs": [
    {
     "data": {
      "image/png": "[encoded data removed]",
      "text/plain": [
       "<Figure size 432x288 with 1 Axes>"
      ]
     },
     "metadata": {
      "needs_background": "light"
     },
     "output_type": "display_data"
    }
   ],
   "source": [
    "plt.scatter(city_df[\"latitude\"], city_df[\"humidity\"], c=\"green\", edgecolor=\"purple\")\n",
    "plt.grid()\n",
    "plt.xlabel('Latitude')\n",
    "plt.ylabel('Humidity')\n",
    "plt.title(\"City Latitude vs. Humidity Levels\")\n",
    "\n",
    "#Save Image\n",
    "plt.savefig(\"humidity.png\")\n",
    "plt.show()"
   ]
  },
  {
   "cell_type": "markdown",
   "metadata": {},
   "source": [
    "## Latitude vs. Cloudiness Plot"
   ]
  },
  {
   "cell_type": "code",
   "execution_count": 12,
   "metadata": {},
   "outputs": [
    {
     "data": {
      "image/png": "[encoded data removed]",
      "text/plain": [
       "<Figure size 432x288 with 1 Axes>"
      ]
     },
     "metadata": {
      "needs_background": "light"
     },
     "output_type": "display_data"
    }
   ],
   "source": [
    "plt.scatter(city_df[\"latitude\"], city_df[\"cloudiness\"], c=\"black\", edgecolor=\"purple\")\n",
    "plt.grid()\n",
    "plt.xlabel('Latitude')\n",
    "plt.ylabel('Cloudiness')\n",
    "plt.title(\"City Latitude vs. Cloudiness\")\n",
    "\n",
    "#Save Image\n",
    "plt.savefig(\"Latcloudiness.png\")\n",
    "plt.show()"
   ]
  },
  {
   "cell_type": "markdown",
   "metadata": {},
   "source": [
    "## Latitude vs. Wind Speed Plot"
   ]
  },
  {
   "cell_type": "code",
   "execution_count": 15,
   "metadata": {},
   "outputs": [
    {
     "data": {
      "image/png": "[encoded data removed]",
      "text/plain": [
       "<Figure size 432x288 with 1 Axes>"
      ]
     },
     "metadata": {
      "needs_background": "light"
     },
     "output_type": "display_data"
    }
   ],
   "source": [
    "plt.scatter(city_df[\"latitude\"], city_df[\"wind_speed\"], c=\"red\", edgecolor=\"blue\")\n",
    "plt.grid()\n",
    "plt.xlabel('Latitude')\n",
    "plt.ylabel('Wind Speed')\n",
    "plt.title(\"City Latitude vs. Wind Speeds\")\n",
    "\n",
    "#Save Image\n",
    "plt.savefig(\"Windspeed.png\")\n",
    "plt.show()"
   ]
  },
  {
   "cell_type": "markdown",
   "metadata": {},
   "source": [
    "## Linear Regression"
   ]
  },
  {
   "cell_type": "code",
   "execution_count": null,
   "metadata": {},
   "outputs": [],
   "source": []
  },
  {
   "cell_type": "markdown",
   "metadata": {},
   "source": [
    "####  Northern Hemisphere - Max Temp vs. Latitude Linear Regression"
   ]
  },
  {
   "cell_type": "code",
   "execution_count": null,
   "metadata": {},
   "outputs": [],
   "source": []
  },
  {
   "cell_type": "markdown",
   "metadata": {},
   "source": [
    "####  Southern Hemisphere - Max Temp vs. Latitude Linear Regression"
   ]
  },
  {
   "cell_type": "code",
   "execution_count": null,
   "metadata": {},
   "outputs": [],
   "source": []
  },
  {
   "cell_type": "markdown",
   "metadata": {},
   "source": [
    "####  Northern Hemisphere - Humidity (%) vs. Latitude Linear Regression"
   ]
  },
  {
   "cell_type": "code",
   "execution_count": null,
   "metadata": {},
   "outputs": [],
   "source": []
  },
  {
   "cell_type": "markdown",
   "metadata": {},
   "source": [
    "####  Southern Hemisphere - Humidity (%) vs. Latitude Linear Regression"
   ]
  },
  {
   "cell_type": "code",
   "execution_count": null,
   "metadata": {},
   "outputs": [],
   "source": []
  },
  {
   "cell_type": "markdown",
   "metadata": {},
   "source": [
    "####  Northern Hemisphere - Cloudiness (%) vs. Latitude Linear Regression"
   ]
  },
  {
   "cell_type": "code",
   "execution_count": null,
   "metadata": {},
   "outputs": [],
   "source": []
  },
  {
   "cell_type": "markdown",
   "metadata": {},
   "source": [
    "####  Southern Hemisphere - Cloudiness (%) vs. Latitude Linear Regression"
   ]
  },
  {
   "cell_type": "code",
   "execution_count": null,
   "metadata": {},
   "outputs": [],
   "source": []
  },
  {
   "cell_type": "markdown",
   "metadata": {},
   "source": [
    "####  Northern Hemisphere - Wind Speed (mph) vs. Latitude Linear Regression"
   ]
  },
  {
   "cell_type": "code",
   "execution_count": null,
   "metadata": {},
   "outputs": [],
   "source": []
  },
  {
   "cell_type": "markdown",
   "metadata": {},
   "source": [
    "####  Southern Hemisphere - Wind Speed (mph) vs. Latitude Linear Regression"
   ]
  },
  {
   "cell_type": "code",
   "execution_count": null,
   "metadata": {},
   "outputs": [],
   "source": []
  },
  {
   "cell_type": "code",
   "execution_count": null,
   "metadata": {},
   "outputs": [],
   "source": []
  }
 ],
 "metadata": {
  "anaconda-cloud": {},
  "kernel_info": {
   "name": "python3"
  },
  "kernelspec": {
   "display_name": "Python 3",
   "language": "python",
   "name": "python3"
  },
  "language_info": {
   "codemirror_mode": {
    "name": "ipython",
    "version": 3
   },
   "file_extension": ".py",
   "mimetype": "text/x-python",
   "name": "python",
   "nbconvert_exporter": "python",
   "pygments_lexer": "ipython3",
   "version": "3.8.5"
  },
  "latex_envs": {
   "LaTeX_envs_menu_present": true,
   "autoclose": false,
   "autocomplete": true,
   "bibliofile": "biblio.bib",
   "cite_by": "apalike",
   "current_citInitial": 1,
   "eqLabelWithNumbers": true,
   "eqNumInitial": 1,
   "hotkeys": {
    "equation": "Ctrl-E",
    "itemize": "Ctrl-I"
   },
   "labels_anchors": false,
   "latex_user_defs": false,
   "report_style_numbering": false,
   "user_envs_cfg": false
  },
  "nteract": {
   "version": "0.12.3"
  }
 },
 "nbformat": 4,
 "nbformat_minor": 2
}
